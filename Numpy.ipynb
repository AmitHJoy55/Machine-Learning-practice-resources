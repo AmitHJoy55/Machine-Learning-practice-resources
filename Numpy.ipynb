{
 "cells": [
  {
   "cell_type": "code",
   "execution_count": 1,
   "id": "a523de59",
   "metadata": {},
   "outputs": [],
   "source": [
    "import numpy as np "
   ]
  },
  {
   "cell_type": "code",
   "execution_count": null,
   "id": "179c328a",
   "metadata": {},
   "outputs": [
    {
     "data": {
      "text/plain": [
       "array([[ 4,  3,  2],\n",
       "       [22, 33, 44]])"
      ]
     },
     "execution_count": 15,
     "metadata": {},
     "output_type": "execute_result"
    }
   ],
   "source": [
    "ar = np.array([[ 1, 2, 3, 4, 5], \n",
    "               [ 5, 4, 3, 2, 1 ], \n",
    "               [11, 22, 33, 44, 55]\n",
    "               ])\n",
    "ar[1:3, 1:4] "
   ]
  },
  {
   "cell_type": "code",
   "execution_count": 22,
   "id": "8b4520c3",
   "metadata": {},
   "outputs": [
    {
     "data": {
      "text/plain": [
       "array([ 15,  15, 165])"
      ]
     },
     "execution_count": 22,
     "metadata": {},
     "output_type": "execute_result"
    }
   ],
   "source": [
    "ar.sum(axis=1)  # Sum along the first axis (rows)\n",
    "# ar.sum(axis=0)  # Sum along the second axis (columns)"
   ]
  },
  {
   "cell_type": "code",
   "execution_count": 30,
   "id": "12ee1ee4",
   "metadata": {},
   "outputs": [
    {
     "data": {
      "text/plain": [
       "array([101, 103, 105, 107, 109])"
      ]
     },
     "execution_count": 30,
     "metadata": {},
     "output_type": "execute_result"
    }
   ],
   "source": [
    "a = np.arange(1, 10, 2)  # Create an array with a step of 2\n",
    "a + 10  # Add 10 to each element of the array\n",
    "a * 2  # Multiply each element of the array by 2\n",
    "a+= 100\n",
    "a"
   ]
  },
  {
   "cell_type": "code",
   "execution_count": null,
   "id": "b13e85d2",
   "metadata": {},
   "outputs": [
    {
     "data": {
      "text/plain": [
       "[10, 20, 30, 40, 50]"
      ]
     },
     "execution_count": 32,
     "metadata": {},
     "output_type": "execute_result"
    }
   ],
   "source": [
    "l = np.array([1, 2, 3, 4, 5])\n",
    "[i * 10 for i in l]"
   ]
  },
  {
   "cell_type": "code",
   "execution_count": 33,
   "id": "2a29341c",
   "metadata": {},
   "outputs": [
    {
     "data": {
      "text/plain": [
       "array([1, 3, 5])"
      ]
     },
     "execution_count": 33,
     "metadata": {},
     "output_type": "execute_result"
    }
   ],
   "source": [
    "l[[True, False, True, False, True]]  # Boolean indexing"
   ]
  },
  {
   "cell_type": "code",
   "execution_count": 44,
   "id": "0f94fce0",
   "metadata": {},
   "outputs": [
    {
     "data": {
      "text/plain": [
       "array([3, 4, 5])"
      ]
     },
     "execution_count": 44,
     "metadata": {},
     "output_type": "execute_result"
    }
   ],
   "source": [
    "l[l > 2] # Boolean indexing to get elements greater than 2"
   ]
  },
  {
   "cell_type": "code",
   "execution_count": 54,
   "id": "fceb2323",
   "metadata": {},
   "outputs": [
    {
     "data": {
      "text/plain": [
       "array([], shape=(0, 5), dtype=int32)"
      ]
     },
     "execution_count": 54,
     "metadata": {},
     "output_type": "execute_result"
    }
   ],
   "source": [
    "l[~(l.mean() > 2)]  # Boolean indexing to get elements less than the mean"
   ]
  },
  {
   "cell_type": "code",
   "execution_count": null,
   "id": "c88f303c",
   "metadata": {},
   "outputs": [
    {
     "name": "stdout",
     "output_type": "stream",
     "text": [
      "539 ns ± 5.18 ns per loop (mean ± std. dev. of 7 runs, 1,000,000 loops each)\n"
     ]
    }
   ],
   "source": [
    "l = list(range(1, 10))\n",
    "%timeit sum([i**2 for i in l])  # List comprehension timing"
   ]
  },
  {
   "cell_type": "code",
   "execution_count": 58,
   "id": "d8dd44a9",
   "metadata": {},
   "outputs": [
    {
     "name": "stdout",
     "output_type": "stream",
     "text": [
      "3.73 μs ± 39.8 ns per loop (mean ± std. dev. of 7 runs, 100,000 loops each)\n"
     ]
    }
   ],
   "source": [
    "a = np.arange(1000)\n",
    "%timeit np.sum(a**2)  # Numpy array operation timing"
   ]
  },
  {
   "cell_type": "code",
   "execution_count": 76,
   "id": "58c0eeef",
   "metadata": {},
   "outputs": [
    {
     "data": {
      "text/plain": [
       "'W'"
      ]
     },
     "execution_count": 76,
     "metadata": {},
     "output_type": "execute_result"
    }
   ],
   "source": [
    "# np.identity(3)  # Get the identity of the array object\n",
    "np.eye(3, 3)  # Get the identity of the array object (alternative method)\n",
    "np.eye(3, 3, k=1)  # Get the identity of the array object with an offset diagonal\n",
    "np.eye(6, 4, k=-1)  # Get the identity of the array object with an offset diagonal\n",
    "\"Hello World\"[6]  # String slicing to get a substring\n"
   ]
  }
 ],
 "metadata": {
  "kernelspec": {
   "display_name": "base",
   "language": "python",
   "name": "python3"
  },
  "language_info": {
   "codemirror_mode": {
    "name": "ipython",
    "version": 3
   },
   "file_extension": ".py",
   "mimetype": "text/x-python",
   "name": "python",
   "nbconvert_exporter": "python",
   "pygments_lexer": "ipython3",
   "version": "3.12.4"
  }
 },
 "nbformat": 4,
 "nbformat_minor": 5
}
